{
 "cells": [
  {
   "cell_type": "code",
   "execution_count": null,
   "metadata": {
    "colab": {
     "base_uri": "https://localhost:8080/"
    },
    "id": "dusgK-clIxLt",
    "outputId": "4a73aaab-190a-423f-90e7-0ba120c06d45"
   },
   "outputs": [
    {
     "output_type": "stream",
     "name": "stdout",
     "text": [
      "Requirement already satisfied: einops in /usr/local/lib/python3.10/dist-packages (0.7.0)\n"
     ]
    }
   ],
   "source": [
    "!pip install einops"
   ]
  },
  {
   "cell_type": "code",
   "execution_count": null,
   "metadata": {
    "id": "_43O0XgtHDMh"
   },
   "outputs": [],
   "source": [
    "import os\n",
    "import sys\n",
    "import torch\n",
    "import torchvision\n",
    "import torch.nn.functional as F\n",
    "import numpy as np\n",
    "import pandas as pd\n",
    "import matplotlib.pyplot as plt\n",
    "import networkx as nx\n",
    "from tqdm import tqdm\n",
    "\n",
    "from random_eigenframe_model import RandomEigenframeModel\n",
    "from scipy.spatial.distance import cdist\n",
    "from einops import repeat, rearrange"
   ]
  },
  {
   "cell_type": "code",
   "execution_count": null,
   "metadata": {
    "colab": {
     "base_uri": "https://localhost:8080/"
    },
    "id": "Pc6xBWaqa4Uo",
    "outputId": "f4607207-d40f-47b6-c1af-fbe7fd8c6c5b"
   },
   "outputs": [
    {
     "output_type": "execute_result",
     "data": {
      "text/plain": [
       "True"
      ]
     },
     "metadata": {},
     "execution_count": 3
    }
   ],
   "source": [
    "torch.cuda.is_available()"
   ]
  },
  {
   "cell_type": "code",
   "source": [
    "path = os.path.join(os.getcwd(), 'results')\n",
    "if not os.path.exists(path):\n",
    "  os.makedirs(path)"
   ],
   "metadata": {
    "id": "aK8sAjq3D5uF"
   },
   "execution_count": null,
   "outputs": []
  },
  {
   "cell_type": "markdown",
   "metadata": {
    "id": "2Zrt-a6uPtCo"
   },
   "source": [
    "# Load MNIST images dataset"
   ]
  },
  {
   "cell_type": "code",
   "execution_count": null,
   "metadata": {
    "id": "3BSjgcm5H88e"
   },
   "outputs": [],
   "source": [
    "batch_size_train = 16\n",
    "batch_size_test = 16"
   ]
  },
  {
   "cell_type": "code",
   "execution_count": null,
   "metadata": {
    "id": "YpeutGI5Pdo1"
   },
   "outputs": [],
   "source": [
    "img_size = 12\n",
    "\n",
    "train_loader = torch.utils.data.DataLoader(\n",
    "  torchvision.datasets.MNIST('/files/', train=True, download=True,\n",
    "                             transform=torchvision.transforms.Compose([\n",
    "                               torchvision.transforms.ToTensor(),\n",
    "                               torchvision.transforms.Resize((img_size, img_size)),\n",
    "                               torchvision.transforms.Normalize(\n",
    "                                 (0.1307,), (0.3081,))\n",
    "                             ])),\n",
    "  batch_size=batch_size_train, shuffle=True)\n",
    "\n",
    "test_loader = torch.utils.data.DataLoader(\n",
    "  torchvision.datasets.MNIST('/files/', train=False, download=True,\n",
    "                             transform=torchvision.transforms.Compose([\n",
    "                               torchvision.transforms.ToTensor(),\n",
    "                               torchvision.transforms.Resize((img_size, img_size)),\n",
    "                               torchvision.transforms.Normalize(\n",
    "                                 (0.1307,), (0.3081,))\n",
    "                             ])),\n",
    "  batch_size=batch_size_test, shuffle=True)"
   ]
  },
  {
   "cell_type": "code",
   "execution_count": null,
   "metadata": {
    "colab": {
     "base_uri": "https://localhost:8080/"
    },
    "id": "cub1sQTEPenX",
    "outputId": "02f1d44a-55eb-41ab-fc54-335ba0034daa"
   },
   "outputs": [
    {
     "output_type": "stream",
     "name": "stderr",
     "text": [
      "/usr/local/lib/python3.10/dist-packages/torchvision/transforms/functional.py:1603: UserWarning: The default value of the antialias parameter of all the resizing transforms (Resize(), RandomResizedCrop(), etc.) will change from None to True in v0.17, in order to be consistent across the PIL and Tensor backends. To suppress this warning, directly pass antialias=True (recommended, future default), antialias=None (current default, which means False for Tensors and True for PIL), or antialias=False (only works on Tensors - PIL will still use antialiasing). This also applies if you are using the inference transforms from the models weights: update the call to weights.transforms(antialias=True).\n",
      "  warnings.warn(\n"
     ]
    },
    {
     "output_type": "execute_result",
     "data": {
      "text/plain": [
       "torch.Size([16, 1, 12, 12])"
      ]
     },
     "metadata": {},
     "execution_count": 7
    }
   ],
   "source": [
    "examples = enumerate(test_loader)\n",
    "batch_idx, (example_data, example_targets) = next(examples)\n",
    "example_data.shape"
   ]
  },
  {
   "cell_type": "code",
   "execution_count": null,
   "metadata": {
    "colab": {
     "base_uri": "https://localhost:8080/"
    },
    "id": "2nN2zzn_XmCA",
    "outputId": "780ad962-5970-45c8-f031-53479c7cf522"
   },
   "outputs": [
    {
     "output_type": "execute_result",
     "data": {
      "text/plain": [
       "torch.Size([16, 1, 144])"
      ]
     },
     "metadata": {},
     "execution_count": 8
    }
   ],
   "source": [
    "rearrange(example_data, 'b c n1 n2 -> b c (n1 n2)').shape"
   ]
  },
  {
   "cell_type": "code",
   "execution_count": null,
   "metadata": {
    "colab": {
     "base_uri": "https://localhost:8080/",
     "height": 859
    },
    "id": "mjsyJ95CPlSM",
    "outputId": "b9e9ad84-7807-41a5-8775-f028eb02165b"
   },
   "outputs": [
    {
     "output_type": "execute_result",
     "data": {
      "text/plain": [
       "<Figure size 640x480 with 6 Axes>"
      ],
      "image/png": "[encoded data removed]"
     },
     "metadata": {},
     "execution_count": 9
    },
    {
     "output_type": "display_data",
     "data": {
      "text/plain": [
       "<Figure size 640x480 with 6 Axes>"
      ],
      "image/png": "[encoded data removed]"
     },
     "metadata": {}
    }
   ],
   "source": [
    "fig = plt.figure()\n",
    "for i in range(6):\n",
    "  plt.subplot(2,3,i+1)\n",
    "  plt.tight_layout()\n",
    "  plt.imshow(rearrange(example_data[i], 'c n1 n2 -> c (n1 n2)').reshape(img_size, img_size),\n",
    "             cmap='gray',\n",
    "             interpolation='none')\n",
    "  plt.title(\"Ground Truth: {}\".format(example_targets[i]))\n",
    "  plt.xticks([])\n",
    "  plt.yticks([])\n",
    "fig"
   ]
  },
  {
   "cell_type": "markdown",
   "metadata": {
    "id": "FFBwIURJPyjk"
   },
   "source": [
    "# MNIST images to graphs"
   ]
  },
  {
   "cell_type": "code",
   "execution_count": null,
   "metadata": {
    "id": "HPN09XmLM2Nn"
   },
   "outputs": [],
   "source": [
    "def draw_graph_mpl(g, pos=None, ax=None, layout_func=nx.drawing.layout.kamada_kawai_layout, draw_labels=True):\n",
    "    if ax is None:\n",
    "        fig, ax = plt.subplots(1, 1, figsize=(20, 20))\n",
    "    else:\n",
    "        fig = None\n",
    "    if pos is None:\n",
    "        pos = layout_func(g)\n",
    "    node_color = []\n",
    "    node_labels = {}\n",
    "    shift_pos = {}\n",
    "    for k in g:\n",
    "        node_color.append(g.nodes[k].get('color', 'green'))\n",
    "        node_labels[k] = g.nodes[k].get('label', k)\n",
    "        shift_pos[k] = [pos[k][0], pos[k][1]]\n",
    "\n",
    "    edge_color = []\n",
    "    edge_width = []\n",
    "    for e in g.edges():\n",
    "        edge_color.append(g.edges[e].get('color', 'black'))\n",
    "        edge_width.append(g.edges[e].get('width', 0.5))\n",
    "    nx.draw_networkx_edges(g, pos, font_weight='bold', edge_color=edge_color, width=edge_width, alpha=0.5, ax=ax)\n",
    "    nx.draw_networkx_nodes(g, pos, node_color=node_color, node_shape='p', node_size=300, alpha=0.75, ax=ax)\n",
    "    if draw_labels:\n",
    "        nx.draw_networkx_labels(g, shift_pos, labels=node_labels, arrows=True, ax=ax)\n",
    "    ax.autoscale()\n",
    "    return fig, ax, pos"
   ]
  },
  {
   "cell_type": "code",
   "execution_count": null,
   "metadata": {
    "id": "IQJuPMVdP3as"
   },
   "outputs": [],
   "source": [
    "def img_laplacian(image_size=28):\n",
    "  col, row = np.meshgrid(np.arange(image_size), np.arange(image_size)) # (28 x 28) Explanation: https://www.geeksforgeeks.org/numpy-meshgrid-function/\n",
    "  coord = np.stack((col, row), axis = 2).reshape(-1, 2) / image_size # (784 x 2) --> normalize\n",
    "  dist = cdist(coord, coord) # compute distance between every pair of pixels\n",
    "  sigma = 0.05 * np.pi # width of the Gaussian (can be a hyperparameter while training a model)\n",
    "  A = np.exp(-dist / sigma ** 2) # adjacency matrix of spatial similarity\n",
    "  A[A < 0.01] = 0 # suppress values less than 0.01\n",
    "  A = torch.from_numpy(A).float()\n",
    "\n",
    "  # Normalization as per (Kipf & Welling, ICLR 2017)\n",
    "  D = A.sum(1)  # nodes degree (N,)\n",
    "  D_hat = (D + 1e-5) ** (-0.5)\n",
    "  A_hat = D_hat.view(-1, 1) * A * D_hat.view(1, -1)  # N,N\n",
    "\n",
    "  # Some additional trick I found to be useful\n",
    "  A_hat[A_hat > 0.0001] = A_hat[A_hat > 0.0001] - 0.2\n",
    "\n",
    "  L = torch.diag(A_hat.sum(dim=1)) - A_hat\n",
    "\n",
    "  return L"
   ]
  },
  {
   "cell_type": "markdown",
   "metadata": {
    "id": "i96ehy1yP1q_"
   },
   "source": [
    "# Model"
   ]
  },
  {
   "cell_type": "code",
   "execution_count": null,
   "metadata": {
    "id": "NY_2A5mvkSj8"
   },
   "outputs": [],
   "source": [
    "n_epochs = 16\n",
    "learning_rate = 0.01\n",
    "wd = 1e-4\n",
    "log_interval = 50\n",
    "reg_factor = 1"
   ]
  },
  {
   "cell_type": "code",
   "execution_count": null,
   "metadata": {
    "id": "rp3JYu2pJSHm"
   },
   "outputs": [],
   "source": [
    "device = 'cpu'#'cuda' if torch.cuda.is_available() else 'cpu'\n",
    "\n",
    "network = RandomEigenframeModel(in_channels=1,\n",
    "                                hidden_channels=[16, 32, 64],\n",
    "                                n_classes=10,\n",
    "                                k_bands=13,\n",
    "                                m_samples=12,\n",
    "                                l_frames=24)\n",
    "network = network.to(device)\n",
    "\n",
    "optimizer = torch.optim.Adam(network.parameters(), lr=learning_rate, weight_decay=wd)"
   ]
  },
  {
   "cell_type": "code",
   "source": [
    "def visualize(axs, model, img, layer, max_channels_to_print):\n",
    "    \"\"\"\n",
    "    Visualize the intermediate activations of a given layer for a given image\n",
    "    :param axs: vector of axes to plot on\n",
    "    :param model: RandomEigenframeModel\n",
    "    :param img: image to visualize\n",
    "    :param layer: number of layer to visualize\n",
    "    :param max_channels_to_print: number of channels to visualize\n",
    "    :return: None\n",
    "    \"\"\"\n",
    "    img = img.to(device)\n",
    "\n",
    "    L = img_laplacian(img_size).unsqueeze(0)\n",
    "    res = model(img.reshape(1, img_size ** 2, 1), L, return_intermediate=True, return_idx=True)\n",
    "    intermediate = res['intermediate']\n",
    "    idx = res['idx'].item()\n",
    "\n",
    "    hidden_channels = model.hidden_channels[1:]\n",
    "\n",
    "    num_channels_to_print = min(hidden_channels[layer], max_channels_to_print)\n",
    "\n",
    "    conved = intermediate[layer]\n",
    "    conved = conved.detach().to('cpu').squeeze(0)\n",
    "    for j in range(num_channels_to_print):\n",
    "      axs[j].imshow(conved[idx, :, j].reshape(img_size, img_size),\n",
    "                  cmap='gray',\n",
    "                  interpolation='none',\n",
    "                  aspect='auto')\n",
    "\n",
    "    for j in range(num_channels_to_print):\n",
    "      axs[j].axis('off')\n",
    "      axs[j].set_xticks([])\n",
    "      axs[j].set_yticks([])\n",
    "  # plt.savefig('./results/intermediate')\n",
    "  # plt.show()"
   ],
   "metadata": {
    "id": "MbhViiPeMtXw"
   },
   "execution_count": null,
   "outputs": []
  },
  {
   "cell_type": "code",
   "execution_count": null,
   "metadata": {
    "id": "UZ62uKRGJ9YV"
   },
   "outputs": [],
   "source": [
    "train_losses = []\n",
    "train_counter = []\n",
    "test_losses = []\n",
    "test_counter = [i*len(train_loader.dataset) for i in range(n_epochs + 1)]"
   ]
  },
  {
   "cell_type": "code",
   "execution_count": null,
   "metadata": {
    "id": "MSyMZAkiKDU_"
   },
   "outputs": [],
   "source": [
    "import time\n",
    "\n",
    "def train(epoch):\n",
    "  network.train()\n",
    "  L = img_laplacian(image_size=img_size).to(device)\n",
    "  for batch_idx, (data, target) in tqdm(enumerate(train_loader)):\n",
    "    x, target = data.to(device), target.to(device)\n",
    "\n",
    "    x = rearrange(x, 'b c n1 n2 -> b (n1 n2) c')\n",
    "    bs = x.shape[0]\n",
    "    batch_L = repeat(L, 'n1 n2 -> b n1 n2', b=bs)\n",
    "\n",
    "    optimizer.zero_grad()\n",
    "    output = network(x, batch_L)\n",
    "    loss = F.nll_loss(output, target) # + reg_factor * network.regularization_term()\n",
    "    loss.backward()\n",
    "    optimizer.step()\n",
    "\n",
    "\n",
    "    # if batch_idx % log_interval == 0:\n",
    "    #   print('Train Epoch: {} [{}/{} ({:.0f}%)]\\tLoss: {:.6f}'.format(\n",
    "    #     epoch, batch_idx * len(data), len(train_loader.dataset),\n",
    "    #     100. * batch_idx / len(train_loader), loss.item()))\n",
    "    #   train_losses.append(loss.item())\n",
    "    #   train_counter.append(\n",
    "    #     (batch_idx*64) + ((epoch-1)*len(train_loader.dataset)))\n",
    "    #   torch.save(network.state_dict(), './results/model.pth')\n",
    "    #   torch.save(optimizer.state_dict(), './results/optimizer.pth')"
   ]
  },
  {
   "cell_type": "code",
   "execution_count": null,
   "metadata": {
    "id": "w5Zeui6cKId9"
   },
   "outputs": [],
   "source": [
    "import time\n",
    "import matplotlib.pyplot as plt\n",
    "from sklearn.metrics import ConfusionMatrixDisplay\n",
    "\n",
    "def test():\n",
    "  network.eval()\n",
    "  L = img_laplacian(image_size=img_size).to(device)\n",
    "  test_loss = 0\n",
    "\n",
    "  targets = torch.empty(0).to(device)\n",
    "  preds = torch.empty(0).to(device)\n",
    "\n",
    "  correct = 0\n",
    "  with torch.no_grad():\n",
    "    for data, target in tqdm(test_loader):\n",
    "      x, target = data.to(device), target.to(device)\n",
    "      x = rearrange(x, 'b c n1 n2 -> b (n1 n2) c')\n",
    "      bs = x.shape[0]\n",
    "      batch_L = repeat(L, 'n1 n2 -> b n1 n2', b=bs)\n",
    "      output = network(x, batch_L)\n",
    "      test_loss += F.nll_loss(output, target, size_average=False).item() # + reg_factor * network.regularization_term()\n",
    "      pred = output.max(dim=1).indices\n",
    "      correct += pred.eq(target.data.view_as(pred)).sum()\n",
    "\n",
    "      targets = torch.cat([targets, target])\n",
    "      preds = torch.cat([preds, pred])\n",
    "  test_loss /= len(test_loader.dataset)\n",
    "  test_losses.append(test_loss)\n",
    "  print('\\nTest set: Avg. loss: {:.4f}, Accuracy: {}/{} ({:.0f}%)\\n'.format(\n",
    "    test_loss, correct, len(test_loader.dataset),\n",
    "    100. * correct / len(test_loader.dataset)))\n",
    "\n",
    "  ConfusionMatrixDisplay.from_predictions(targets.to('cpu').numpy(), preds.to('cpu').numpy())\n",
    "  plt.show()\n"
   ]
  },
  {
   "cell_type": "code",
   "execution_count": null,
   "metadata": {
    "id": "yTBNm5VWKMeU"
   },
   "outputs": [],
   "source": [
    "# test()\n",
    "# for epoch in range(1, n_epochs + 1):\n",
    "#   train(epoch)\n",
    "#   test()"
   ]
  },
  {
   "cell_type": "markdown",
   "source": [
    "## Load model"
   ],
   "metadata": {
    "id": "HFXYhQtRfYF1"
   }
  },
  {
   "cell_type": "code",
   "source": [
    "device = 'cpu'#'cuda' if torch.cuda.is_available() else 'cpu'\n",
    "\n",
    "def load_model(path = './results/model.pth'):\n",
    "  network = RandomEigenframeModel(in_channels=1,\n",
    "                                  hidden_channels=[16, 32, 64],\n",
    "                                  n_classes=10,\n",
    "                                  k_bands=13,\n",
    "                                  m_samples=12,\n",
    "                                  l_frames=24)\n",
    "  network.load_state_dict(torch.load(path))\n",
    "  network = network.to(device)\n",
    "  network.eval()\n",
    "\n",
    "  return network\n",
    "\n",
    "load_model()"
   ],
   "metadata": {
    "colab": {
     "base_uri": "https://localhost:8080/"
    },
    "id": "GQ3GPAezfaXc",
    "outputId": "0a1f3979-7f8a-4fdb-dbba-4537d465e190"
   },
   "execution_count": null,
   "outputs": [
    {
     "output_type": "execute_result",
     "data": {
      "text/plain": [
       "RandomEigenframeModel(\n",
       "  (bp): BandPass()\n",
       "  (localizing_mask): LocalizingMask()\n",
       "  (conv_layers): ParameterList(\n",
       "      (0): Object of type: RandomEigenframeFilter\n",
       "      (1): Object of type: RandomEigenframeFilter\n",
       "      (2): Object of type: RandomEigenframeFilter\n",
       "    (0): RandomEigenframeFilter()\n",
       "    (1): RandomEigenframeFilter()\n",
       "    (2): RandomEigenframeFilter()\n",
       "  )\n",
       "  (classifier): Sequential(\n",
       "    (0): Linear(in_features=64, out_features=64, bias=True)\n",
       "    (1): Reduce('b f n c -> b f c', 'mean')\n",
       "    (2): Linear(in_features=64, out_features=10, bias=True)\n",
       "    (3): LogSoftmax(dim=2)\n",
       "  )\n",
       ")"
      ]
     },
     "metadata": {},
     "execution_count": 21
    }
   ]
  },
  {
   "cell_type": "markdown",
   "metadata": {
    "id": "HU-veO5B9m8Q"
   },
   "source": [
    "# Vis"
   ]
  },
  {
   "cell_type": "code",
   "execution_count": null,
   "metadata": {
    "id": "cZztXGnzhTcV"
   },
   "outputs": [],
   "source": [
    "delta = torch.zeros((1, img_size, img_size))\n",
    "delta[0][img_size // 2][img_size // 2] = 1\n",
    "delta = torchvision.transforms.Normalize((0.1307,), (0.3081,))(delta)\n",
    "\n",
    "_, axs = plt.subplots(1, 3, figsize=(3 * 10, 5))\n",
    "\n",
    "model = load_model()\n",
    "visualize(axs[1:], model, delta, 0, 1)\n",
    "\n",
    "axs[0].imshow(delta.reshape(img_size, img_size), cmap='gray',\n",
    "                  interpolation='none',\n",
    "                  aspect='auto')\n",
    "axs[0].axis('off')\n",
    "\n",
    "plt.savefig('')\n",
    "plt.show()"
   ]
  },
  {
   "cell_type": "code",
   "source": [
    "import matplotlib.pyplot as plt\n",
    "\n",
    "def coefficients_plot(axs, model, layer, in_channel, max_channels_to_print):\n",
    "  \"\"\"\n",
    "  Plot the coefficients of a given layer for a given input channel and 1..max_channels_to_print output channels\n",
    "  :param axs: vector of axes to plot on\n",
    "  :param model: RandomEigenframeModel\n",
    "  :param layer: number of layer to visualize\n",
    "  :param in_channel:  number of input channel to visualize\n",
    "  :param max_channels_to_print: number of output channels to visualize\n",
    "  :return: None\n",
    "  \"\"\"\n",
    "  num_channels_to_print = min(max_channels_to_print, model.conv_layers[layer].coefficients.shape[2])\n",
    "\n",
    "  for j in range(num_channels_to_print):\n",
    "    coefficients = model.conv_layers[layer].coefficients.detach().to('cpu')[:, :, j, in_channel, :].flatten().tolist()\n",
    "\n",
    "    axs[j].plot(range(len(coefficients)), coefficients)\n",
    "\n",
    "  for j in range(num_channels_to_print):\n",
    "    axs[j].axis('off')"
   ],
   "metadata": {
    "id": "vkxlDN9luSh6"
   },
   "execution_count": null,
   "outputs": []
  },
  {
   "cell_type": "code",
   "source": [
    "device = 'cuda' if torch.cuda.is_available() else 'cpu'\n",
    "\n",
    "model = RandomEigenframeModel(in_channels=1,\n",
    "                                hidden_channels=[16, 32, 64],\n",
    "                                n_classes=10,\n",
    "                                k_bands=51,\n",
    "                                m_samples=20,\n",
    "                                l_frames=24)\n",
    "model.to(device)\n",
    "\n",
    "print(model.regularization_term())\n",
    "\n",
    "optimizer = torch.optim.Adam(model.parameters(), lr=0.01)\n",
    "\n",
    "layer_to_print = 1\n",
    "\n",
    "num_epochs = 2000\n",
    "_, axs = plt.subplots(10, 3, figsize=(3 * 10, 5 * 10))\n",
    "cnt = 0\n",
    "for i in range(num_epochs + 1):\n",
    "  optimizer.zero_grad()\n",
    "\n",
    "  loss = model.regularization_term()\n",
    "  loss.backward()\n",
    "\n",
    "  optimizer.step()\n",
    "\n",
    "  if i % (num_epochs // 3) == 0 or i == num_epochs:\n",
    "    with torch.no_grad():\n",
    "      visualize(axs[cnt, :], model, example_data[1].to(device), layer_to_print, 3)\n",
    "      coefficients_plot(axs[cnt+1, :], model, 0, 0, 3)\n",
    "      cnt += 2\n",
    "plt.savefig('Train_on_regularization.png')\n",
    "plt.show()"
   ],
   "metadata": {
    "id": "4etua0_OSIb7"
   },
   "execution_count": null,
   "outputs": []
  },
  {
   "cell_type": "code",
   "source": [
    "device = 'cuda' if torch.cuda.is_available() else 'cpu'\n",
    "\n",
    "model = RandomEigenframeModel(in_channels=1,\n",
    "                                hidden_channels=[2],\n",
    "                                n_classes=10,\n",
    "                                k_bands=51,\n",
    "                                m_samples=20,\n",
    "                                l_frames=24)\n",
    "\n",
    "model.conv_layers[0].coefficients = torch.nn.Parameter(torch.cat([\n",
    "    torch.sin(torch.linspace(0, 2, model.k_bands * model.m_samples).reshape(1, 1, 1, 1, -1) * 10),\n",
    "    torch.ones(1, 1, 1, 1, model.k_bands * model.m_samples)\n",
    "], dim=2))\n",
    "\n",
    "model.to(device)\n",
    "\n",
    "visualize(model, example_data[0].to(device), 0, 2)"
   ],
   "metadata": {
    "id": "BYoOcSkIuEgT"
   },
   "execution_count": null,
   "outputs": []
  }
 ],
 "metadata": {
  "accelerator": "GPU",
  "colab": {
   "provenance": []
  },
  "kernelspec": {
   "display_name": "Python 3",
   "name": "python3"
  },
  "language_info": {
   "name": "python"
  }
 },
 "nbformat": 4,
 "nbformat_minor": 0
}
